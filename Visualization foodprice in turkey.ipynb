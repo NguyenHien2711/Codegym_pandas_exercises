{
 "cells": [
  {
   "cell_type": "code",
   "execution_count": 33,
   "id": "61629480",
   "metadata": {},
   "outputs": [
    {
     "data": {
      "text/html": [
       "<div>\n",
       "<style scoped>\n",
       "    .dataframe tbody tr th:only-of-type {\n",
       "        vertical-align: middle;\n",
       "    }\n",
       "\n",
       "    .dataframe tbody tr th {\n",
       "        vertical-align: top;\n",
       "    }\n",
       "\n",
       "    .dataframe thead th {\n",
       "        text-align: right;\n",
       "    }\n",
       "</style>\n",
       "<table border=\"1\" class=\"dataframe\">\n",
       "  <thead>\n",
       "    <tr style=\"text-align: right;\">\n",
       "      <th></th>\n",
       "      <th>Place</th>\n",
       "      <th>ProductId</th>\n",
       "      <th>ProductName</th>\n",
       "      <th>UmId</th>\n",
       "      <th>UmName</th>\n",
       "      <th>Month</th>\n",
       "      <th>Year</th>\n",
       "      <th>Price</th>\n",
       "    </tr>\n",
       "  </thead>\n",
       "  <tbody>\n",
       "    <tr>\n",
       "      <th>0</th>\n",
       "      <td>National Average</td>\n",
       "      <td>52</td>\n",
       "      <td>Rice - Retail</td>\n",
       "      <td>5</td>\n",
       "      <td>KG</td>\n",
       "      <td>5</td>\n",
       "      <td>2013</td>\n",
       "      <td>4.4920</td>\n",
       "    </tr>\n",
       "    <tr>\n",
       "      <th>1</th>\n",
       "      <td>National Average</td>\n",
       "      <td>52</td>\n",
       "      <td>Rice - Retail</td>\n",
       "      <td>5</td>\n",
       "      <td>KG</td>\n",
       "      <td>6</td>\n",
       "      <td>2013</td>\n",
       "      <td>4.5786</td>\n",
       "    </tr>\n",
       "    <tr>\n",
       "      <th>2</th>\n",
       "      <td>National Average</td>\n",
       "      <td>52</td>\n",
       "      <td>Rice - Retail</td>\n",
       "      <td>5</td>\n",
       "      <td>KG</td>\n",
       "      <td>11</td>\n",
       "      <td>2013</td>\n",
       "      <td>4.7865</td>\n",
       "    </tr>\n",
       "    <tr>\n",
       "      <th>3</th>\n",
       "      <td>National Average</td>\n",
       "      <td>52</td>\n",
       "      <td>Rice - Retail</td>\n",
       "      <td>5</td>\n",
       "      <td>KG</td>\n",
       "      <td>12</td>\n",
       "      <td>2013</td>\n",
       "      <td>5.1337</td>\n",
       "    </tr>\n",
       "    <tr>\n",
       "      <th>4</th>\n",
       "      <td>National Average</td>\n",
       "      <td>52</td>\n",
       "      <td>Rice - Retail</td>\n",
       "      <td>5</td>\n",
       "      <td>KG</td>\n",
       "      <td>1</td>\n",
       "      <td>2014</td>\n",
       "      <td>5.5099</td>\n",
       "    </tr>\n",
       "  </tbody>\n",
       "</table>\n",
       "</div>"
      ],
      "text/plain": [
       "              Place  ProductId    ProductName  UmId UmName  Month  Year  \\\n",
       "0  National Average         52  Rice - Retail     5     KG      5  2013   \n",
       "1  National Average         52  Rice - Retail     5     KG      6  2013   \n",
       "2  National Average         52  Rice - Retail     5     KG     11  2013   \n",
       "3  National Average         52  Rice - Retail     5     KG     12  2013   \n",
       "4  National Average         52  Rice - Retail     5     KG      1  2014   \n",
       "\n",
       "    Price  \n",
       "0  4.4920  \n",
       "1  4.5786  \n",
       "2  4.7865  \n",
       "3  5.1337  \n",
       "4  5.5099  "
      ]
     },
     "execution_count": 33,
     "metadata": {},
     "output_type": "execute_result"
    }
   ],
   "source": [
    "import pandas as pd\n",
    "import matplotlib.pyplot as plt\n",
    "data = pd.read_csv('FoodPrice_in_Turkey.csv')\n",
    "data.head()"
   ]
  },
  {
   "cell_type": "code",
   "execution_count": 34,
   "id": "32afad53",
   "metadata": {},
   "outputs": [
    {
     "name": "stdout",
     "output_type": "stream",
     "text": [
      "<class 'pandas.core.frame.DataFrame'>\n",
      "RangeIndex: 7381 entries, 0 to 7380\n",
      "Data columns (total 8 columns):\n",
      " #   Column       Non-Null Count  Dtype  \n",
      "---  ------       --------------  -----  \n",
      " 0   Place        7381 non-null   object \n",
      " 1   ProductId    7381 non-null   int64  \n",
      " 2   ProductName  7381 non-null   object \n",
      " 3   UmId         7381 non-null   int64  \n",
      " 4   UmName       7381 non-null   object \n",
      " 5   Month        7381 non-null   int64  \n",
      " 6   Year         7381 non-null   int64  \n",
      " 7   Price        7381 non-null   float64\n",
      "dtypes: float64(1), int64(4), object(3)\n",
      "memory usage: 461.4+ KB\n"
     ]
    }
   ],
   "source": [
    "data.info()"
   ]
  },
  {
   "cell_type": "markdown",
   "id": "3d33082a",
   "metadata": {},
   "source": [
    "1. Vẽ biểu đồ cột so sánh giá gạo (Rice-Retail) tháng 12 năm 2019 của Ankara, Istanbul, Izmir và National Average."
   ]
  },
  {
   "cell_type": "code",
   "execution_count": 35,
   "id": "f7210fd4",
   "metadata": {},
   "outputs": [
    {
     "data": {
      "text/plain": [
       "array(['National Average', 'Ankara', 'Istanbul', 'Izmir'], dtype=object)"
      ]
     },
     "execution_count": 35,
     "metadata": {},
     "output_type": "execute_result"
    }
   ],
   "source": [
    "#Kiểm tra giá trị của Month, Year, place\n",
    "data['Month'].unique() \n",
    "data['Year'].unique() \n",
    "data['Place'].unique() "
   ]
  },
  {
   "cell_type": "code",
   "execution_count": 49,
   "id": "13bebb73",
   "metadata": {},
   "outputs": [
    {
     "data": {
      "image/png": "[encoded data removed]",
      "text/plain": [
       "<Figure size 432x288 with 1 Axes>"
      ]
     },
     "metadata": {
      "needs_background": "light"
     },
     "output_type": "display_data"
    }
   ],
   "source": [
    "data1 = data[(data['Month']==12) & (data['Year']==2019) & (data['ProductName']=='Rice - Retail')]\n",
    "plt.bar(x = data1['Place'], height=data1['Price'],  width=0.4, bottom=4)\n",
    "plt.title('Giá gạo tháng 12', fontsize=13)\n",
    "plt.ylim(4, 16)\n",
    "ax = plt.gca()\n",
    "ax.set_xlabel('Địa điểm')\n",
    "ax.set_ylabel('Mức giá')\n",
    "for bars in ax.containers:\n",
    "    ax.bar_label(bars)\n",
    "plt.show()"
   ]
  },
  {
   "cell_type": "markdown",
   "id": "524b811f",
   "metadata": {},
   "source": [
    "Looking from an overall perspective, except for Ankara, the price of rice in Istanbul and Izmir exceed National Average price "
   ]
  },
  {
   "cell_type": "markdown",
   "id": "c62ae3fe",
   "metadata": {},
   "source": [
    "2. Vẽ biểu đồ đường phân tích xu hướng giá gạo (Rice-Retail) trung bình cả nước (National Average) trong năm 2019 tại Thổ Nhĩ Kì."
   ]
  },
  {
   "cell_type": "code",
   "execution_count": 54,
   "id": "d04e2ed9",
   "metadata": {},
   "outputs": [
    {
     "data": {
      "image/png": "[encoded data removed]",
      "text/plain": [
       "<Figure size 432x288 with 1 Axes>"
      ]
     },
     "metadata": {
      "needs_background": "light"
     },
     "output_type": "display_data"
    }
   ],
   "source": [
    "data2 = data[(data['Year']==2019) & (data['Place']=='National Average') & (data['ProductName']=='Rice - Retail')]\n",
    "plt.plot(data2['Month'], data2['Price'])\n",
    "plt.title('The tendency of national average Rice-Retail price in Tuckey in 2019')\n",
    "plt.xlabel('Month')\n",
    "plt.ylabel('Price')\n",
    "plt.show()"
   ]
  },
  {
   "cell_type": "markdown",
   "id": "d0f41bea",
   "metadata": {},
   "source": [
    "Overall, there is an upward trend in avarage price over 12 months in 2019 and it is predicted to continue increase in 2020.<br>\n",
    "It is clear that, over the first half of year, the price experience a continuously sharp increase while the later years, the speed of growth slowed down and slightly dip before continue to considerably rise on November."
   ]
  },
  {
   "cell_type": "markdown",
   "id": "e4dd9ef7",
   "metadata": {},
   "source": [
    "3. Vẽ biểu đồ Scatter phân tích mối liên quan giữa giá gạo và giá gas trung bình quốc gia (National Average) tại Thổ Nhĩ Kì."
   ]
  },
  {
   "cell_type": "code",
   "execution_count": 55,
   "id": "46c6650b",
   "metadata": {},
   "outputs": [
    {
     "data": {
      "text/plain": [
       "array(['Rice - Retail', 'Wheat flour - Retail', 'Beans (white) - Retail',\n",
       "       'Potatoes - Retail', 'Eggs - Retail', 'Meat (chicken) - Retail',\n",
       "       'Sugar - Retail', 'Garlic - Retail', 'Lentils - Retail',\n",
       "       'Pasta - Retail', 'Tomatoes - Retail',\n",
       "       'Groundnuts (shelled) - Retail', 'Bread (common) - Retail',\n",
       "       'Coffee - Retail', 'Onions - Retail', 'Tea (green) - Retail',\n",
       "       'Cabbage - Retail', 'Meat (mutton) - Retail',\n",
       "       'Oil (sunflower) - Retail', 'Salt - Retail',\n",
       "       'Coffee (instant) - Retail', 'Peas (green, dry) - Retail',\n",
       "       'Apples (red) - Retail', 'Cauliflower - Retail',\n",
       "       'Cucumbers (greenhouse) - Retail', 'Oil (olive) - Retail',\n",
       "       'Chickpeas - Retail', 'Bananas - Retail', 'Bulgur - Retail',\n",
       "       'Tea - Retail', 'Fuel (petrol-gasoline) - Retail',\n",
       "       'Transport (public) - Retail', 'Tomatoes (paste) - Retail',\n",
       "       'Fuel (gas) - Retail', 'Apples - Retail', 'Oranges - Retail',\n",
       "       'Yogurt - Retail', 'Bread (pita) - Retail', 'Cucumbers - Retail',\n",
       "       'Fish (fresh) - Retail', 'Spinach - Retail', 'Cheese - Retail',\n",
       "       'Meat (veal) - Retail', 'Eggplants - Retail',\n",
       "       'Milk (powder, infant formula) - Retail', 'Zucchini - Retail',\n",
       "       'Milk (pasteurized) - Retail',\n",
       "       'Wage (non-qualified labour, non-agricultural) - Retail',\n",
       "       'Electricity - Retail', 'Tea (herbal) - Retail', 'Water - Retail',\n",
       "       'Cocoa (powder) - Retail'], dtype=object)"
      ]
     },
     "execution_count": 55,
     "metadata": {},
     "output_type": "execute_result"
    }
   ],
   "source": [
    "data['ProductName'].unique()"
   ]
  },
  {
   "cell_type": "code",
   "execution_count": 61,
   "id": "4518c436",
   "metadata": {},
   "outputs": [
    {
     "data": {
      "image/png": "[encoded data removed]",
      "text/plain": [
       "<Figure size 432x288 with 1 Axes>"
      ]
     },
     "metadata": {
      "needs_background": "light"
     },
     "output_type": "display_data"
    }
   ],
   "source": [
    "data3 = data[(data['ProductName']=='Fuel (gas) - Retail') & (data['Place']=='National Average') & (data['Year']==2019)]\n",
    "plt.scatter(data3['Price'], data2['Price'])\n",
    "plt.title('Relationship between Rice Price and Gas Price', fontsize=13)\n",
    "plt.xlabel('Gas')\n",
    "plt.ylabel('Rice')\n",
    "plt.show()"
   ]
  },
  {
   "cell_type": "markdown",
   "id": "e541d3de",
   "metadata": {},
   "source": [
    "The Rice'price fluctuate wildly along with slightly increase of gas'price<br>\n",
    "There is a adnormal point in the graph, the gas price is low while the price of rice is much higher, may be in the collecting data processing, there is imperfection information recorded"
   ]
  },
  {
   "cell_type": "code",
   "execution_count": null,
   "id": "e02b4ac5",
   "metadata": {},
   "outputs": [],
   "source": []
  }
 ],
 "metadata": {
  "kernelspec": {
   "display_name": "Python 3 (ipykernel)",
   "language": "python",
   "name": "python3"
  },
  "language_info": {
   "codemirror_mode": {
    "name": "ipython",
    "version": 3
   },
   "file_extension": ".py",
   "mimetype": "text/x-python",
   "name": "python",
   "nbconvert_exporter": "python",
   "pygments_lexer": "ipython3",
   "version": "3.9.12"
  }
 },
 "nbformat": 4,
 "nbformat_minor": 5
}
